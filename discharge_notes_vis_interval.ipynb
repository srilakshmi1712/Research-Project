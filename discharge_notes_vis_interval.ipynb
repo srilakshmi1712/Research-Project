{
 "cells": [
  {
   "cell_type": "code",
   "execution_count": 1,
   "id": "b6498c43",
   "metadata": {},
   "outputs": [],
   "source": [
    "import matplotlib.pyplot as plt\n",
    "import numpy as np\n",
    "import pandas as pd"
   ]
  },
  {
   "cell_type": "code",
   "execution_count": 2,
   "id": "efbf84c0",
   "metadata": {},
   "outputs": [
    {
     "data": {
      "text/html": [
       "<div>\n",
       "<style scoped>\n",
       "    .dataframe tbody tr th:only-of-type {\n",
       "        vertical-align: middle;\n",
       "    }\n",
       "\n",
       "    .dataframe tbody tr th {\n",
       "        vertical-align: top;\n",
       "    }\n",
       "\n",
       "    .dataframe thead th {\n",
       "        text-align: right;\n",
       "    }\n",
       "</style>\n",
       "<table border=\"1\" class=\"dataframe\">\n",
       "  <thead>\n",
       "    <tr style=\"text-align: right;\">\n",
       "      <th></th>\n",
       "      <th>subject_id</th>\n",
       "      <th>hadm_id</th>\n",
       "      <th>admittime</th>\n",
       "      <th>dischtime</th>\n",
       "      <th>deathtime</th>\n",
       "      <th>admission_type</th>\n",
       "      <th>admit_provider_id</th>\n",
       "      <th>admission_location</th>\n",
       "      <th>discharge_location</th>\n",
       "      <th>insurance</th>\n",
       "      <th>language</th>\n",
       "      <th>marital_status</th>\n",
       "      <th>race</th>\n",
       "      <th>edregtime</th>\n",
       "      <th>edouttime</th>\n",
       "      <th>hospital_expire_flag</th>\n",
       "      <th>Frequency</th>\n",
       "    </tr>\n",
       "  </thead>\n",
       "  <tbody>\n",
       "    <tr>\n",
       "      <th>0</th>\n",
       "      <td>10000032</td>\n",
       "      <td>22595853</td>\n",
       "      <td>2180-05-06 22:23:00</td>\n",
       "      <td>2180-05-07 17:15:00</td>\n",
       "      <td>NaN</td>\n",
       "      <td>URGENT</td>\n",
       "      <td>P874LG</td>\n",
       "      <td>TRANSFER FROM HOSPITAL</td>\n",
       "      <td>HOME</td>\n",
       "      <td>Other</td>\n",
       "      <td>ENGLISH</td>\n",
       "      <td>WIDOWED</td>\n",
       "      <td>WHITE</td>\n",
       "      <td>5/6/2180 19:17</td>\n",
       "      <td>5/6/2180 23:30</td>\n",
       "      <td>0</td>\n",
       "      <td>4</td>\n",
       "    </tr>\n",
       "    <tr>\n",
       "      <th>1</th>\n",
       "      <td>10000032</td>\n",
       "      <td>22841357</td>\n",
       "      <td>2180-06-26 18:27:00</td>\n",
       "      <td>2180-06-27 18:49:00</td>\n",
       "      <td>NaN</td>\n",
       "      <td>EW EMER.</td>\n",
       "      <td>P09Q6Y</td>\n",
       "      <td>EMERGENCY ROOM</td>\n",
       "      <td>HOME</td>\n",
       "      <td>Medicaid</td>\n",
       "      <td>ENGLISH</td>\n",
       "      <td>WIDOWED</td>\n",
       "      <td>WHITE</td>\n",
       "      <td>6/26/2180 15:54</td>\n",
       "      <td>6/26/2180 21:31</td>\n",
       "      <td>0</td>\n",
       "      <td>4</td>\n",
       "    </tr>\n",
       "    <tr>\n",
       "      <th>2</th>\n",
       "      <td>10000032</td>\n",
       "      <td>25742920</td>\n",
       "      <td>2180-08-05 23:44:00</td>\n",
       "      <td>2180-08-07 17:50:00</td>\n",
       "      <td>NaN</td>\n",
       "      <td>EW EMER.</td>\n",
       "      <td>P60CC5</td>\n",
       "      <td>EMERGENCY ROOM</td>\n",
       "      <td>HOSPICE</td>\n",
       "      <td>Medicaid</td>\n",
       "      <td>ENGLISH</td>\n",
       "      <td>WIDOWED</td>\n",
       "      <td>WHITE</td>\n",
       "      <td>8/5/2180 20:58</td>\n",
       "      <td>8/6/2180 1:44</td>\n",
       "      <td>0</td>\n",
       "      <td>4</td>\n",
       "    </tr>\n",
       "    <tr>\n",
       "      <th>3</th>\n",
       "      <td>10000032</td>\n",
       "      <td>29079034</td>\n",
       "      <td>2180-07-23 12:35:00</td>\n",
       "      <td>2180-07-25 17:55:00</td>\n",
       "      <td>NaN</td>\n",
       "      <td>EW EMER.</td>\n",
       "      <td>P30KEH</td>\n",
       "      <td>EMERGENCY ROOM</td>\n",
       "      <td>HOME</td>\n",
       "      <td>Medicaid</td>\n",
       "      <td>ENGLISH</td>\n",
       "      <td>WIDOWED</td>\n",
       "      <td>WHITE</td>\n",
       "      <td>7/23/2180 5:54</td>\n",
       "      <td>7/23/2180 14:00</td>\n",
       "      <td>0</td>\n",
       "      <td>4</td>\n",
       "    </tr>\n",
       "    <tr>\n",
       "      <th>4</th>\n",
       "      <td>10000068</td>\n",
       "      <td>25022803</td>\n",
       "      <td>2160-03-03 23:16:00</td>\n",
       "      <td>2160-03-04 06:26:00</td>\n",
       "      <td>NaN</td>\n",
       "      <td>EU OBSERVATION</td>\n",
       "      <td>P51VDL</td>\n",
       "      <td>EMERGENCY ROOM</td>\n",
       "      <td>NaN</td>\n",
       "      <td>Other</td>\n",
       "      <td>ENGLISH</td>\n",
       "      <td>SINGLE</td>\n",
       "      <td>WHITE</td>\n",
       "      <td>3/3/2160 21:55</td>\n",
       "      <td>3/4/2160 6:26</td>\n",
       "      <td>0</td>\n",
       "      <td>1</td>\n",
       "    </tr>\n",
       "  </tbody>\n",
       "</table>\n",
       "</div>"
      ],
      "text/plain": [
       "   subject_id   hadm_id           admittime           dischtime deathtime  \\\n",
       "0    10000032  22595853 2180-05-06 22:23:00 2180-05-07 17:15:00       NaN   \n",
       "1    10000032  22841357 2180-06-26 18:27:00 2180-06-27 18:49:00       NaN   \n",
       "2    10000032  25742920 2180-08-05 23:44:00 2180-08-07 17:50:00       NaN   \n",
       "3    10000032  29079034 2180-07-23 12:35:00 2180-07-25 17:55:00       NaN   \n",
       "4    10000068  25022803 2160-03-03 23:16:00 2160-03-04 06:26:00       NaN   \n",
       "\n",
       "   admission_type admit_provider_id      admission_location  \\\n",
       "0          URGENT            P874LG  TRANSFER FROM HOSPITAL   \n",
       "1        EW EMER.            P09Q6Y          EMERGENCY ROOM   \n",
       "2        EW EMER.            P60CC5          EMERGENCY ROOM   \n",
       "3        EW EMER.            P30KEH          EMERGENCY ROOM   \n",
       "4  EU OBSERVATION            P51VDL          EMERGENCY ROOM   \n",
       "\n",
       "  discharge_location insurance language marital_status   race  \\\n",
       "0               HOME     Other  ENGLISH        WIDOWED  WHITE   \n",
       "1               HOME  Medicaid  ENGLISH        WIDOWED  WHITE   \n",
       "2            HOSPICE  Medicaid  ENGLISH        WIDOWED  WHITE   \n",
       "3               HOME  Medicaid  ENGLISH        WIDOWED  WHITE   \n",
       "4                NaN     Other  ENGLISH         SINGLE  WHITE   \n",
       "\n",
       "         edregtime        edouttime  hospital_expire_flag  Frequency  \n",
       "0   5/6/2180 19:17   5/6/2180 23:30                     0          4  \n",
       "1  6/26/2180 15:54  6/26/2180 21:31                     0          4  \n",
       "2   8/5/2180 20:58    8/6/2180 1:44                     0          4  \n",
       "3   7/23/2180 5:54  7/23/2180 14:00                     0          4  \n",
       "4   3/3/2160 21:55    3/4/2160 6:26                     0          1  "
      ]
     },
     "execution_count": 2,
     "metadata": {},
     "output_type": "execute_result"
    }
   ],
   "source": [
    "# Read the admission file\n",
    "file_path = 'admissions.csv'\n",
    "df = pd.read_csv(file_path)\n",
    "# Group the data by suject_id and get the count of each suject_id\n",
    "\n",
    "grouped_data = df.groupby('subject_id').size().reset_index(name='Frequency')\n",
    "\n",
    "# Merge the grouped data back to the original DataFrame on 'subject_id'\n",
    "df = pd.merge(df, grouped_data, on='subject_id', how='left')\n",
    "\n",
    "# change the data type of admittime and dischtime from object to date and time\n",
    "df['admittime'] = pd.to_datetime(df['admittime'])\n",
    "df['dischtime'] = pd.to_datetime(df['dischtime'])\n",
    "\n",
    "df.head()\n"
   ]
  },
  {
   "cell_type": "code",
   "execution_count": 3,
   "id": "744f48fd",
   "metadata": {},
   "outputs": [
    {
     "name": "stdout",
     "output_type": "stream",
     "text": [
      "   Subject_ID    Adm_id    Visit_Frequency Discharge_adm_type      Readm_type\n",
      "0    10000032  22841357   50 days 01:12:00             URGENT        EW EMER.\n",
      "1    10000032  29079034   25 days 17:46:00           EW EMER.        EW EMER.\n",
      "2    10000032  25742920   11 days 05:49:00           EW EMER.        EW EMER.\n",
      "3    10000826  21086876    6 days 01:09:00           EW EMER.    DIRECT EMER.\n",
      "4    10000826  28289260    6 days 04:48:00       DIRECT EMER.        EW EMER.\n",
      "5    10000935  24955974    2 days 16:52:00           EW EMER.  EU OBSERVATION\n",
      "6    10000935  21738619 1342 days 01:47:00     EU OBSERVATION  EU OBSERVATION\n",
      "7    10000935  26381316   42 days 10:07:00     EU OBSERVATION        EW EMER.\n",
      "8    10000935  25849114   44 days 03:34:00           EW EMER.        EW EMER.\n",
      "9    10000980  26913865  538 days 14:08:00           EW EMER.        EW EMER.\n"
     ]
    }
   ],
   "source": [
    "# Sort and group the admitime corresponding to subject_id\n",
    "df.sort_values(by=['subject_id','admittime'], inplace=True)\n",
    "\n",
    "visit_frequency_data = []\n",
    "\n",
    "# Group the data by 'subject_id'\n",
    "grouped_data = df.groupby('subject_id')\n",
    "\n",
    "# Iterate over each subject_id\n",
    "for subject_id, group_df in grouped_data:\n",
    "    # Check if the frequency of visits for this subject_id is greater than 1\n",
    "    if len(group_df) > 2:\n",
    "        # Iterate over each row in the group DataFrame\n",
    "        for i in range(len(group_df)-1):\n",
    "            # Calculate the visit frequency\n",
    "            visit_fre = group_df.admittime.iloc[i+1] - group_df.dischtime.iloc[i]\n",
    "            dis_adm_typ = group_df.admission_type.iloc[i]\n",
    "            readm_typ = group_df.admission_type.iloc[i+1] \n",
    "            adm_id = group_df.hadm_id.iloc[i+1]\n",
    "            # Append the results to the list as a dictionary\n",
    "            visit_frequency_data.append({\n",
    "                'Subject_ID': subject_id,\n",
    "                'Adm_id':adm_id,\n",
    "                'Visit_Frequency': visit_fre,\n",
    "                'Discharge_adm_type': dis_adm_typ,\n",
    "                'Readm_type': readm_typ                \n",
    "                \n",
    "            })\n",
    "\n",
    "# Convert the list of dictionaries to a DataFrame\n",
    "visit_frequency_df = pd.DataFrame(visit_frequency_data)\n",
    "\n",
    "# Display the first 10 rows of the DataFrame\n",
    "print(visit_frequency_df.head(10))\n",
    "visit_frequency_df.to_excel('Admission_type_VI.xlsx', sheet_name = 'Data')"
   ]
  },
  {
   "cell_type": "code",
   "execution_count": 69,
   "id": "018a3b06",
   "metadata": {},
   "outputs": [],
   "source": [
    "def visit_interval_files(input_data, i):\n",
    "    \"\"\"\n",
    "    Filter the DataFrame to get rows where 'Visit_Frequency_days' is within the specified range,\n",
    "    and save the resulting DataFrame to an Excel file.\n",
    "\n",
    "    Parameters:\n",
    "    - input_file: DataFrame, the input DataFrame containing visit frequency data\n",
    "    - i: int, the lower bound of the visit frequency range\n",
    "    \"\"\"\n",
    "    try:\n",
    "        input_file = pd.read_excel(input_data)\n",
    "        # Filter the DataFrame to get rows where 'Visit_Frequency_days' is within the specified range\n",
    "        output_file = input_file[(input_file['Visit_Frequency'] >= i) & \n",
    "                                 (input_file['Visit_Frequency'] < i+1)]\n",
    "\n",
    "        # Display the resulting DataFrame\n",
    "        # print(output_file)\n",
    "        \n",
    "        # Save the filtered DataFrame to an Excel file\n",
    "        output_file.to_excel(f\"visit_interval_{i}_{i+1}.xlsx\", sheet_name='Data', index=False)\n",
    "        \n",
    "        print(f\"Filtered data saved successfully to visit_interval_{i}_{i+1}.xlsx\")\n",
    "    except Exception as e:\n",
    "        print(\"Error occurred:\", str(e))\n"
   ]
  },
  {
   "cell_type": "code",
   "execution_count": 70,
   "id": "6faf20ab",
   "metadata": {},
   "outputs": [],
   "source": [
    "def same_admission_type(input_data, j):\n",
    "    \"\"\"\n",
    "    Identify cases where the discharge admission type matches the readmission type,\n",
    "    and save the counts of each admission type to an Excel file.\n",
    "\n",
    "    Parameters:\n",
    "    - input_file: DataFrame, the input DataFrame containing discharge and readmission types\n",
    "    - j: int, the lower bound of the range used for naming the output Excel file\n",
    "    \"\"\"\n",
    "    try:\n",
    "        input_file = pd.read_excel(input_data)\n",
    "        # Create an empty list to store the admission types\n",
    "        same_adm_type = []\n",
    "\n",
    "        # Iterate through each row of the DataFrame\n",
    "        for i in range(len(input_file)):\n",
    "            # Get the discharge admission type and readmission type for the current row\n",
    "            discharge_adm_type = input_file['Discharge_adm_type'].iloc[i]\n",
    "            readm_type = input_file['Readm_type'].iloc[i]\n",
    "            Subject_ID = input_file['Subject_ID'].iloc[i]\n",
    "            Adm_id = input_file['Adm_id'].iloc[i]\n",
    "            # Check if the discharge admission type and readmission type are equal\n",
    "            if discharge_adm_type == readm_type:\n",
    "                # If they are equal, append the discharge admission type to the list\n",
    "                same_adm_type.append({\n",
    "                         'Adm_type':discharge_adm_type,\n",
    "                         'subject_id':Subject_ID,\n",
    "                         'hadm_id': Adm_id,\n",
    "                         })\n",
    "        \n",
    "        # Convert list to DataFrame\n",
    "        output_file = pd.DataFrame(same_adm_type)  \n",
    "        # print(output_file)\n",
    "\n",
    "        # Count occurrences of each admission type\n",
    "        # Ad_VI = output_file['Admission_Type'].value_counts()\n",
    "        # print(Ad_VI)\n",
    "\n",
    "        # Save the counts to an Excel file\n",
    "        output_file.to_excel(f\"Adm_type_VI_{j}_{j+1}.xlsx\")\n",
    "        \n",
    "        print(f\"Filtered data saved successfully to Adm_type_VI_{j}_{j+1}.xlsx\")\n",
    "    except Exception as e:\n",
    "        print(\"Error occurred:\", str(e))\n"
   ]
  },
  {
   "cell_type": "code",
   "execution_count": 185,
   "id": "245863c1",
   "metadata": {},
   "outputs": [],
   "source": [
    "def discharge_notes (input_file, adm_type, j):\n",
    "    try:\n",
    "        # Assuming 'dis_data' is available in the global scope\n",
    "        discharge_data = dis_data[['subject_id', 'hadm_id', 'text']]\n",
    "        \n",
    "        # Read admission data from the specified Excel file\n",
    "        adm_data = pd.read_excel(input_file)\n",
    "        \n",
    "        # Merge discharge data with admission data\n",
    "        merged_df = pd.merge(discharge_data, adm_data, on='hadm_id', how='right')\n",
    "        \n",
    "        # Select rows with a specific admission type\n",
    "        selected_rows = merged_df[merged_df['Adm_type'] == adm_type]\n",
    "        selected_columns = selected_rows[['subject_id_y','hadm_id','Adm_type','text']]\n",
    "        # Drop rows with null values\n",
    "        output_file = selected_columns.dropna()\n",
    "        \n",
    "        # Save the filtered data to an Excel file\n",
    "        output_file.to_excel(f\"discharge_notes_{j}_{j+1}.xlsx\", index=False)\n",
    "        print(f\"Filtered data saved successfully to discharge_notes_{j}_{j+1}.xlsx\")\n",
    "    except FileNotFoundError:\n",
    "        print(f\"Error: File '{input_file}' not found.\")\n",
    "    except Exception as e:\n",
    "        print(\"Error occurred:\", str(e))\n"
   ]
  },
  {
   "cell_type": "code",
   "execution_count": 74,
   "id": "1fcdd54e",
   "metadata": {},
   "outputs": [],
   "source": [
    "dis_data = pd.read_csv('discharge.csv')\n",
    "discharge_data = dis_data[['subject_id', 'hadm_id', 'text']]"
   ]
  },
  {
   "cell_type": "code",
   "execution_count": 107,
   "id": "4604a193",
   "metadata": {},
   "outputs": [
    {
     "name": "stdout",
     "output_type": "stream",
     "text": [
      "Filtered data saved successfully to visit_interval_0_1.xlsx\n"
     ]
    }
   ],
   "source": [
    "visit_interval_files('Admission_type_VI.xlsx',0)"
   ]
  },
  {
   "cell_type": "code",
   "execution_count": 108,
   "id": "fb03e6ae",
   "metadata": {},
   "outputs": [
    {
     "name": "stdout",
     "output_type": "stream",
     "text": [
      "Filtered data saved successfully to Adm_type_VI_0_1.xlsx\n"
     ]
    }
   ],
   "source": [
    "same_admission_type('visit_interval_0_1.xlsx', 0)"
   ]
  },
  {
   "cell_type": "code",
   "execution_count": 186,
   "id": "f763665b",
   "metadata": {},
   "outputs": [
    {
     "name": "stdout",
     "output_type": "stream",
     "text": [
      "Filtered data saved successfully to discharge_notes_0_1.xlsx\n"
     ]
    }
   ],
   "source": [
    "discharge_notes ('Adm_type_VI_0_1.xlsx','EU OBSERVATION',0)"
   ]
  },
  {
   "cell_type": "code",
   "execution_count": 110,
   "id": "df1347eb",
   "metadata": {},
   "outputs": [
    {
     "name": "stdout",
     "output_type": "stream",
     "text": [
      "Filtered data saved successfully to visit_interval_1_2.xlsx\n"
     ]
    }
   ],
   "source": [
    "visit_interval_files('Admission_type_VI.xlsx',1)"
   ]
  },
  {
   "cell_type": "code",
   "execution_count": 111,
   "id": "8f5bc3ce",
   "metadata": {},
   "outputs": [
    {
     "name": "stdout",
     "output_type": "stream",
     "text": [
      "Filtered data saved successfully to Adm_type_VI_1_2.xlsx\n"
     ]
    }
   ],
   "source": [
    "same_admission_type('visit_interval_1_2.xlsx', 1)"
   ]
  },
  {
   "cell_type": "code",
   "execution_count": 187,
   "id": "8d06008a",
   "metadata": {},
   "outputs": [
    {
     "name": "stdout",
     "output_type": "stream",
     "text": [
      "Filtered data saved successfully to discharge_notes_1_2.xlsx\n"
     ]
    }
   ],
   "source": [
    "discharge_notes ('Adm_type_VI_1_2.xlsx','EW EMER.',1)"
   ]
  },
  {
   "cell_type": "code",
   "execution_count": 113,
   "id": "df22e4be",
   "metadata": {},
   "outputs": [
    {
     "name": "stdout",
     "output_type": "stream",
     "text": [
      "Filtered data saved successfully to visit_interval_2_3.xlsx\n"
     ]
    }
   ],
   "source": [
    "visit_interval_files('Admission_type_VI.xlsx',2)"
   ]
  },
  {
   "cell_type": "code",
   "execution_count": 114,
   "id": "6489224d",
   "metadata": {},
   "outputs": [
    {
     "name": "stdout",
     "output_type": "stream",
     "text": [
      "Filtered data saved successfully to Adm_type_VI_2_3.xlsx\n"
     ]
    }
   ],
   "source": [
    "same_admission_type('visit_interval_2_3.xlsx', 2)"
   ]
  },
  {
   "cell_type": "code",
   "execution_count": 188,
   "id": "a3d25345",
   "metadata": {},
   "outputs": [
    {
     "name": "stdout",
     "output_type": "stream",
     "text": [
      "Filtered data saved successfully to discharge_notes_2_3.xlsx\n"
     ]
    }
   ],
   "source": [
    "discharge_notes ('Adm_type_VI_2_3.xlsx','EW EMER.',2)"
   ]
  },
  {
   "cell_type": "code",
   "execution_count": 122,
   "id": "26cd4895",
   "metadata": {},
   "outputs": [
    {
     "name": "stdout",
     "output_type": "stream",
     "text": [
      "Filtered data saved successfully to visit_interval_3_4.xlsx\n"
     ]
    }
   ],
   "source": [
    "visit_interval_files('Admission_type_VI.xlsx',3)"
   ]
  },
  {
   "cell_type": "code",
   "execution_count": 123,
   "id": "aa57f906",
   "metadata": {},
   "outputs": [
    {
     "name": "stdout",
     "output_type": "stream",
     "text": [
      "Filtered data saved successfully to Adm_type_VI_3_4.xlsx\n"
     ]
    }
   ],
   "source": [
    "same_admission_type('visit_interval_3_4.xlsx', 3)"
   ]
  },
  {
   "cell_type": "code",
   "execution_count": 189,
   "id": "c8fc3dc0",
   "metadata": {},
   "outputs": [
    {
     "name": "stdout",
     "output_type": "stream",
     "text": [
      "Filtered data saved successfully to discharge_notes_3_4.xlsx\n"
     ]
    }
   ],
   "source": [
    "discharge_notes ('Adm_type_VI_3_4.xlsx','EW EMER.',3)"
   ]
  },
  {
   "cell_type": "code",
   "execution_count": 125,
   "id": "9a1ed56e",
   "metadata": {},
   "outputs": [
    {
     "name": "stdout",
     "output_type": "stream",
     "text": [
      "Filtered data saved successfully to visit_interval_4_5.xlsx\n"
     ]
    }
   ],
   "source": [
    "visit_interval_files('Admission_type_VI.xlsx',4)"
   ]
  },
  {
   "cell_type": "code",
   "execution_count": 126,
   "id": "b8658860",
   "metadata": {},
   "outputs": [
    {
     "name": "stdout",
     "output_type": "stream",
     "text": [
      "Filtered data saved successfully to Adm_type_VI_4_5.xlsx\n"
     ]
    }
   ],
   "source": [
    "same_admission_type('visit_interval_4_5.xlsx', 4)"
   ]
  },
  {
   "cell_type": "code",
   "execution_count": 190,
   "id": "9cbc115a",
   "metadata": {},
   "outputs": [
    {
     "name": "stdout",
     "output_type": "stream",
     "text": [
      "Filtered data saved successfully to discharge_notes_4_5.xlsx\n"
     ]
    }
   ],
   "source": [
    "discharge_notes ('Adm_type_VI_4_5.xlsx','EW EMER.',4)"
   ]
  },
  {
   "cell_type": "code",
   "execution_count": 128,
   "id": "c07ce253",
   "metadata": {},
   "outputs": [
    {
     "name": "stdout",
     "output_type": "stream",
     "text": [
      "Filtered data saved successfully to visit_interval_5_6.xlsx\n"
     ]
    }
   ],
   "source": [
    "visit_interval_files('Admission_type_VI.xlsx',5)"
   ]
  },
  {
   "cell_type": "code",
   "execution_count": 130,
   "id": "21996595",
   "metadata": {},
   "outputs": [
    {
     "name": "stdout",
     "output_type": "stream",
     "text": [
      "Filtered data saved successfully to Adm_type_VI_5_6.xlsx\n"
     ]
    }
   ],
   "source": [
    "same_admission_type('visit_interval_5_6.xlsx', 5)"
   ]
  },
  {
   "cell_type": "code",
   "execution_count": 191,
   "id": "70c68cf7",
   "metadata": {},
   "outputs": [
    {
     "name": "stdout",
     "output_type": "stream",
     "text": [
      "Filtered data saved successfully to discharge_notes_5_6.xlsx\n"
     ]
    }
   ],
   "source": [
    "discharge_notes ('Adm_type_VI_5_6.xlsx','EW EMER.',5)"
   ]
  },
  {
   "cell_type": "code",
   "execution_count": 140,
   "id": "0d09ca8f",
   "metadata": {},
   "outputs": [
    {
     "name": "stdout",
     "output_type": "stream",
     "text": [
      "Filtered data saved successfully to visit_interval_6_7.xlsx\n"
     ]
    }
   ],
   "source": [
    "visit_interval_files('Admission_type_VI.xlsx',6)"
   ]
  },
  {
   "cell_type": "code",
   "execution_count": 141,
   "id": "c9302d11",
   "metadata": {},
   "outputs": [
    {
     "name": "stdout",
     "output_type": "stream",
     "text": [
      "Filtered data saved successfully to Adm_type_VI_6_7.xlsx\n"
     ]
    }
   ],
   "source": [
    "same_admission_type('visit_interval_6_7.xlsx', 6)"
   ]
  },
  {
   "cell_type": "code",
   "execution_count": 192,
   "id": "a34c6f31",
   "metadata": {},
   "outputs": [
    {
     "name": "stdout",
     "output_type": "stream",
     "text": [
      "Filtered data saved successfully to discharge_notes_6_7.xlsx\n"
     ]
    }
   ],
   "source": [
    "discharge_notes ('Adm_type_VI_6_7.xlsx','EW EMER.',6)"
   ]
  },
  {
   "cell_type": "code",
   "execution_count": 143,
   "id": "1c9a8c63",
   "metadata": {},
   "outputs": [
    {
     "name": "stdout",
     "output_type": "stream",
     "text": [
      "Filtered data saved successfully to visit_interval_7_8.xlsx\n"
     ]
    }
   ],
   "source": [
    "visit_interval_files('Admission_type_VI.xlsx',7)"
   ]
  },
  {
   "cell_type": "code",
   "execution_count": 144,
   "id": "0943cf55",
   "metadata": {},
   "outputs": [
    {
     "name": "stdout",
     "output_type": "stream",
     "text": [
      "Filtered data saved successfully to Adm_type_VI_7_8.xlsx\n"
     ]
    }
   ],
   "source": [
    "same_admission_type('visit_interval_7_8.xlsx', 7)"
   ]
  },
  {
   "cell_type": "code",
   "execution_count": 193,
   "id": "cbcb6704",
   "metadata": {},
   "outputs": [
    {
     "name": "stdout",
     "output_type": "stream",
     "text": [
      "Filtered data saved successfully to discharge_notes_7_8.xlsx\n"
     ]
    }
   ],
   "source": [
    "discharge_notes ('Adm_type_VI_7_8.xlsx','EW EMER.',7)"
   ]
  },
  {
   "cell_type": "code",
   "execution_count": 146,
   "id": "338c8d8b",
   "metadata": {},
   "outputs": [
    {
     "name": "stdout",
     "output_type": "stream",
     "text": [
      "Filtered data saved successfully to visit_interval_8_9.xlsx\n"
     ]
    }
   ],
   "source": [
    "visit_interval_files('Admission_type_VI.xlsx',8)"
   ]
  },
  {
   "cell_type": "code",
   "execution_count": 147,
   "id": "9aa90721",
   "metadata": {},
   "outputs": [
    {
     "name": "stdout",
     "output_type": "stream",
     "text": [
      "Filtered data saved successfully to Adm_type_VI_8_9.xlsx\n"
     ]
    }
   ],
   "source": [
    "same_admission_type('visit_interval_8_9.xlsx', 8)"
   ]
  },
  {
   "cell_type": "code",
   "execution_count": 194,
   "id": "7cd90497",
   "metadata": {},
   "outputs": [
    {
     "name": "stdout",
     "output_type": "stream",
     "text": [
      "Filtered data saved successfully to discharge_notes_8_9.xlsx\n"
     ]
    }
   ],
   "source": [
    "discharge_notes ('Adm_type_VI_8_9.xlsx','EW EMER.',8)"
   ]
  },
  {
   "cell_type": "code",
   "execution_count": 149,
   "id": "85b60532",
   "metadata": {},
   "outputs": [
    {
     "name": "stdout",
     "output_type": "stream",
     "text": [
      "Filtered data saved successfully to visit_interval_9_10.xlsx\n"
     ]
    }
   ],
   "source": [
    "visit_interval_files('Admission_type_VI.xlsx',9)"
   ]
  },
  {
   "cell_type": "code",
   "execution_count": 150,
   "id": "0067721d",
   "metadata": {},
   "outputs": [
    {
     "name": "stdout",
     "output_type": "stream",
     "text": [
      "Filtered data saved successfully to Adm_type_VI_9_10.xlsx\n"
     ]
    }
   ],
   "source": [
    "same_admission_type('visit_interval_9_10.xlsx', 9)"
   ]
  },
  {
   "cell_type": "code",
   "execution_count": 195,
   "id": "19c51f13",
   "metadata": {},
   "outputs": [
    {
     "name": "stdout",
     "output_type": "stream",
     "text": [
      "Filtered data saved successfully to discharge_notes_9_10.xlsx\n"
     ]
    }
   ],
   "source": [
    "discharge_notes ('Adm_type_VI_9_10.xlsx','EW EMER.',9)"
   ]
  },
  {
   "cell_type": "code",
   "execution_count": 152,
   "id": "6bd192c3",
   "metadata": {},
   "outputs": [
    {
     "name": "stdout",
     "output_type": "stream",
     "text": [
      "Filtered data saved successfully to visit_interval_10_11.xlsx\n"
     ]
    }
   ],
   "source": [
    "visit_interval_files('Admission_type_VI.xlsx',10)"
   ]
  },
  {
   "cell_type": "code",
   "execution_count": 153,
   "id": "ab41b5d3",
   "metadata": {},
   "outputs": [
    {
     "name": "stdout",
     "output_type": "stream",
     "text": [
      "Filtered data saved successfully to Adm_type_VI_10_11.xlsx\n"
     ]
    }
   ],
   "source": [
    "same_admission_type('visit_interval_10_11.xlsx', 10)"
   ]
  },
  {
   "cell_type": "code",
   "execution_count": 196,
   "id": "f9146368",
   "metadata": {},
   "outputs": [
    {
     "name": "stdout",
     "output_type": "stream",
     "text": [
      "Filtered data saved successfully to discharge_notes_10_11.xlsx\n"
     ]
    }
   ],
   "source": [
    "discharge_notes ('Adm_type_VI_10_11.xlsx','EW EMER.',10)"
   ]
  },
  {
   "cell_type": "code",
   "execution_count": 155,
   "id": "aa5439c9",
   "metadata": {},
   "outputs": [
    {
     "name": "stdout",
     "output_type": "stream",
     "text": [
      "Filtered data saved successfully to visit_interval_11_12.xlsx\n"
     ]
    }
   ],
   "source": [
    "visit_interval_files('Admission_type_VI.xlsx',11)"
   ]
  },
  {
   "cell_type": "code",
   "execution_count": 156,
   "id": "8ded03c4",
   "metadata": {},
   "outputs": [
    {
     "name": "stdout",
     "output_type": "stream",
     "text": [
      "Filtered data saved successfully to Adm_type_VI_11_12.xlsx\n"
     ]
    }
   ],
   "source": [
    "same_admission_type('visit_interval_11_12.xlsx', 11)"
   ]
  },
  {
   "cell_type": "code",
   "execution_count": 197,
   "id": "8cb68f6c",
   "metadata": {},
   "outputs": [
    {
     "name": "stdout",
     "output_type": "stream",
     "text": [
      "Filtered data saved successfully to discharge_notes_11_12.xlsx\n"
     ]
    }
   ],
   "source": [
    "discharge_notes ('Adm_type_VI_11_12.xlsx','EW EMER.',11)"
   ]
  },
  {
   "cell_type": "code",
   "execution_count": 162,
   "id": "56235b51",
   "metadata": {},
   "outputs": [
    {
     "name": "stdout",
     "output_type": "stream",
     "text": [
      "Filtered data saved successfully to visit_interval_12_13.xlsx\n"
     ]
    }
   ],
   "source": [
    "visit_interval_files('Admission_type_VI.xlsx',12)"
   ]
  },
  {
   "cell_type": "code",
   "execution_count": 163,
   "id": "7ce17eb9",
   "metadata": {},
   "outputs": [
    {
     "name": "stdout",
     "output_type": "stream",
     "text": [
      "Filtered data saved successfully to Adm_type_VI_12_13.xlsx\n"
     ]
    }
   ],
   "source": [
    "same_admission_type('visit_interval_12_13.xlsx', 12)"
   ]
  },
  {
   "cell_type": "code",
   "execution_count": 198,
   "id": "a2d5babf",
   "metadata": {},
   "outputs": [
    {
     "name": "stdout",
     "output_type": "stream",
     "text": [
      "Filtered data saved successfully to discharge_notes_12_13.xlsx\n"
     ]
    }
   ],
   "source": [
    "discharge_notes ('Adm_type_VI_12_13.xlsx','EW EMER.',12)"
   ]
  },
  {
   "cell_type": "code",
   "execution_count": 165,
   "id": "ceaf143b",
   "metadata": {},
   "outputs": [
    {
     "name": "stdout",
     "output_type": "stream",
     "text": [
      "Filtered data saved successfully to visit_interval_13_14.xlsx\n"
     ]
    }
   ],
   "source": [
    "visit_interval_files('Admission_type_VI.xlsx',13)"
   ]
  },
  {
   "cell_type": "code",
   "execution_count": 166,
   "id": "066f33f0",
   "metadata": {},
   "outputs": [
    {
     "name": "stdout",
     "output_type": "stream",
     "text": [
      "Filtered data saved successfully to Adm_type_VI_13_14.xlsx\n"
     ]
    }
   ],
   "source": [
    "same_admission_type('visit_interval_13_14.xlsx', 13)"
   ]
  },
  {
   "cell_type": "code",
   "execution_count": 199,
   "id": "52c19ef0",
   "metadata": {},
   "outputs": [
    {
     "name": "stdout",
     "output_type": "stream",
     "text": [
      "Filtered data saved successfully to discharge_notes_13_14.xlsx\n"
     ]
    }
   ],
   "source": [
    "discharge_notes ('Adm_type_VI_13_14.xlsx','EW EMER.',13)"
   ]
  },
  {
   "cell_type": "code",
   "execution_count": 168,
   "id": "135252d2",
   "metadata": {},
   "outputs": [
    {
     "name": "stdout",
     "output_type": "stream",
     "text": [
      "Filtered data saved successfully to visit_interval_14_15.xlsx\n"
     ]
    }
   ],
   "source": [
    "visit_interval_files('Admission_type_VI.xlsx',14)"
   ]
  },
  {
   "cell_type": "code",
   "execution_count": 169,
   "id": "47bb1b92",
   "metadata": {},
   "outputs": [
    {
     "name": "stdout",
     "output_type": "stream",
     "text": [
      "Filtered data saved successfully to Adm_type_VI_14_15.xlsx\n"
     ]
    }
   ],
   "source": [
    "same_admission_type('visit_interval_14_15.xlsx', 14)"
   ]
  },
  {
   "cell_type": "code",
   "execution_count": 200,
   "id": "eeb33233",
   "metadata": {},
   "outputs": [
    {
     "name": "stdout",
     "output_type": "stream",
     "text": [
      "Filtered data saved successfully to discharge_notes_14_15.xlsx\n"
     ]
    }
   ],
   "source": [
    "discharge_notes ('Adm_type_VI_14_15.xlsx','EW EMER.',14)"
   ]
  },
  {
   "cell_type": "code",
   "execution_count": null,
   "id": "ff1e8e55",
   "metadata": {},
   "outputs": [],
   "source": []
  },
  {
   "cell_type": "code",
   "execution_count": null,
   "id": "9cdb5da4",
   "metadata": {},
   "outputs": [],
   "source": []
  }
 ],
 "metadata": {
  "kernelspec": {
   "display_name": "Python 3 (ipykernel)",
   "language": "python",
   "name": "python3"
  },
  "language_info": {
   "codemirror_mode": {
    "name": "ipython",
    "version": 3
   },
   "file_extension": ".py",
   "mimetype": "text/x-python",
   "name": "python",
   "nbconvert_exporter": "python",
   "pygments_lexer": "ipython3",
   "version": "3.10.9"
  }
 },
 "nbformat": 4,
 "nbformat_minor": 5
}
