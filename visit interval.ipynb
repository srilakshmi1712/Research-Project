{
 "cells": [
  {
   "cell_type": "code",
   "execution_count": 10,
   "id": "caa3d0e5",
   "metadata": {},
   "outputs": [],
   "source": [
    "import matplotlib.pyplot as plt\n",
    "import numpy as np\n",
    "import pandas as pd\n",
    "import csv"
   ]
  },
  {
   "cell_type": "code",
   "execution_count": 11,
   "id": "0b7b9c73",
   "metadata": {
    "scrolled": true
   },
   "outputs": [
    {
     "data": {
      "text/html": [
       "<div>\n",
       "<style scoped>\n",
       "    .dataframe tbody tr th:only-of-type {\n",
       "        vertical-align: middle;\n",
       "    }\n",
       "\n",
       "    .dataframe tbody tr th {\n",
       "        vertical-align: top;\n",
       "    }\n",
       "\n",
       "    .dataframe thead th {\n",
       "        text-align: right;\n",
       "    }\n",
       "</style>\n",
       "<table border=\"1\" class=\"dataframe\">\n",
       "  <thead>\n",
       "    <tr style=\"text-align: right;\">\n",
       "      <th></th>\n",
       "      <th>subject_id</th>\n",
       "      <th>hadm_id</th>\n",
       "      <th>admittime</th>\n",
       "      <th>dischtime</th>\n",
       "      <th>deathtime</th>\n",
       "      <th>admission_type</th>\n",
       "      <th>admit_provider_id</th>\n",
       "      <th>admission_location</th>\n",
       "      <th>discharge_location</th>\n",
       "      <th>insurance</th>\n",
       "      <th>language</th>\n",
       "      <th>marital_status</th>\n",
       "      <th>race</th>\n",
       "      <th>edregtime</th>\n",
       "      <th>edouttime</th>\n",
       "      <th>hospital_expire_flag</th>\n",
       "      <th>Frequency</th>\n",
       "    </tr>\n",
       "  </thead>\n",
       "  <tbody>\n",
       "    <tr>\n",
       "      <th>0</th>\n",
       "      <td>10000032</td>\n",
       "      <td>22595853</td>\n",
       "      <td>2180-05-06 22:23:00</td>\n",
       "      <td>2180-05-07 17:15:00</td>\n",
       "      <td>NaN</td>\n",
       "      <td>URGENT</td>\n",
       "      <td>P874LG</td>\n",
       "      <td>TRANSFER FROM HOSPITAL</td>\n",
       "      <td>HOME</td>\n",
       "      <td>Other</td>\n",
       "      <td>ENGLISH</td>\n",
       "      <td>WIDOWED</td>\n",
       "      <td>WHITE</td>\n",
       "      <td>5/6/2180 19:17</td>\n",
       "      <td>5/6/2180 23:30</td>\n",
       "      <td>0</td>\n",
       "      <td>4</td>\n",
       "    </tr>\n",
       "    <tr>\n",
       "      <th>1</th>\n",
       "      <td>10000032</td>\n",
       "      <td>22841357</td>\n",
       "      <td>2180-06-26 18:27:00</td>\n",
       "      <td>2180-06-27 18:49:00</td>\n",
       "      <td>NaN</td>\n",
       "      <td>EW EMER.</td>\n",
       "      <td>P09Q6Y</td>\n",
       "      <td>EMERGENCY ROOM</td>\n",
       "      <td>HOME</td>\n",
       "      <td>Medicaid</td>\n",
       "      <td>ENGLISH</td>\n",
       "      <td>WIDOWED</td>\n",
       "      <td>WHITE</td>\n",
       "      <td>6/26/2180 15:54</td>\n",
       "      <td>6/26/2180 21:31</td>\n",
       "      <td>0</td>\n",
       "      <td>4</td>\n",
       "    </tr>\n",
       "    <tr>\n",
       "      <th>2</th>\n",
       "      <td>10000032</td>\n",
       "      <td>25742920</td>\n",
       "      <td>2180-08-05 23:44:00</td>\n",
       "      <td>2180-08-07 17:50:00</td>\n",
       "      <td>NaN</td>\n",
       "      <td>EW EMER.</td>\n",
       "      <td>P60CC5</td>\n",
       "      <td>EMERGENCY ROOM</td>\n",
       "      <td>HOSPICE</td>\n",
       "      <td>Medicaid</td>\n",
       "      <td>ENGLISH</td>\n",
       "      <td>WIDOWED</td>\n",
       "      <td>WHITE</td>\n",
       "      <td>8/5/2180 20:58</td>\n",
       "      <td>8/6/2180 1:44</td>\n",
       "      <td>0</td>\n",
       "      <td>4</td>\n",
       "    </tr>\n",
       "    <tr>\n",
       "      <th>3</th>\n",
       "      <td>10000032</td>\n",
       "      <td>29079034</td>\n",
       "      <td>2180-07-23 12:35:00</td>\n",
       "      <td>2180-07-25 17:55:00</td>\n",
       "      <td>NaN</td>\n",
       "      <td>EW EMER.</td>\n",
       "      <td>P30KEH</td>\n",
       "      <td>EMERGENCY ROOM</td>\n",
       "      <td>HOME</td>\n",
       "      <td>Medicaid</td>\n",
       "      <td>ENGLISH</td>\n",
       "      <td>WIDOWED</td>\n",
       "      <td>WHITE</td>\n",
       "      <td>7/23/2180 5:54</td>\n",
       "      <td>7/23/2180 14:00</td>\n",
       "      <td>0</td>\n",
       "      <td>4</td>\n",
       "    </tr>\n",
       "    <tr>\n",
       "      <th>4</th>\n",
       "      <td>10000068</td>\n",
       "      <td>25022803</td>\n",
       "      <td>2160-03-03 23:16:00</td>\n",
       "      <td>2160-03-04 06:26:00</td>\n",
       "      <td>NaN</td>\n",
       "      <td>EU OBSERVATION</td>\n",
       "      <td>P51VDL</td>\n",
       "      <td>EMERGENCY ROOM</td>\n",
       "      <td>NaN</td>\n",
       "      <td>Other</td>\n",
       "      <td>ENGLISH</td>\n",
       "      <td>SINGLE</td>\n",
       "      <td>WHITE</td>\n",
       "      <td>3/3/2160 21:55</td>\n",
       "      <td>3/4/2160 6:26</td>\n",
       "      <td>0</td>\n",
       "      <td>1</td>\n",
       "    </tr>\n",
       "  </tbody>\n",
       "</table>\n",
       "</div>"
      ],
      "text/plain": [
       "   subject_id   hadm_id           admittime           dischtime deathtime  \\\n",
       "0    10000032  22595853 2180-05-06 22:23:00 2180-05-07 17:15:00       NaN   \n",
       "1    10000032  22841357 2180-06-26 18:27:00 2180-06-27 18:49:00       NaN   \n",
       "2    10000032  25742920 2180-08-05 23:44:00 2180-08-07 17:50:00       NaN   \n",
       "3    10000032  29079034 2180-07-23 12:35:00 2180-07-25 17:55:00       NaN   \n",
       "4    10000068  25022803 2160-03-03 23:16:00 2160-03-04 06:26:00       NaN   \n",
       "\n",
       "   admission_type admit_provider_id      admission_location  \\\n",
       "0          URGENT            P874LG  TRANSFER FROM HOSPITAL   \n",
       "1        EW EMER.            P09Q6Y          EMERGENCY ROOM   \n",
       "2        EW EMER.            P60CC5          EMERGENCY ROOM   \n",
       "3        EW EMER.            P30KEH          EMERGENCY ROOM   \n",
       "4  EU OBSERVATION            P51VDL          EMERGENCY ROOM   \n",
       "\n",
       "  discharge_location insurance language marital_status   race  \\\n",
       "0               HOME     Other  ENGLISH        WIDOWED  WHITE   \n",
       "1               HOME  Medicaid  ENGLISH        WIDOWED  WHITE   \n",
       "2            HOSPICE  Medicaid  ENGLISH        WIDOWED  WHITE   \n",
       "3               HOME  Medicaid  ENGLISH        WIDOWED  WHITE   \n",
       "4                NaN     Other  ENGLISH         SINGLE  WHITE   \n",
       "\n",
       "         edregtime        edouttime  hospital_expire_flag  Frequency  \n",
       "0   5/6/2180 19:17   5/6/2180 23:30                     0          4  \n",
       "1  6/26/2180 15:54  6/26/2180 21:31                     0          4  \n",
       "2   8/5/2180 20:58    8/6/2180 1:44                     0          4  \n",
       "3   7/23/2180 5:54  7/23/2180 14:00                     0          4  \n",
       "4   3/3/2160 21:55    3/4/2160 6:26                     0          1  "
      ]
     },
     "execution_count": 11,
     "metadata": {},
     "output_type": "execute_result"
    }
   ],
   "source": [
    "# Read the admission file\n",
    "file_path = 'admissions.csv'\n",
    "df = pd.read_csv(file_path)\n",
    "# Group the data by suject_id and get the count of each suject_id\n",
    "\n",
    "grouped_data = df.groupby('subject_id').size().reset_index(name='Frequency')\n",
    "\n",
    "# Merge the grouped data back to the original DataFrame on 'subject_id'\n",
    "df = pd.merge(df, grouped_data, on='subject_id', how='left')\n",
    "\n",
    "# change the data type of admittime and dischtime from object to date and time\n",
    "df['admittime'] = pd.to_datetime(df['admittime'])\n",
    "df['dischtime'] = pd.to_datetime(df['dischtime'])\n",
    "\n",
    "df.head()\n"
   ]
  },
  {
   "cell_type": "code",
   "execution_count": 13,
   "id": "3758c5a6",
   "metadata": {},
   "outputs": [
    {
     "data": {
      "text/plain": [
       "subject_id                       int64\n",
       "hadm_id                          int64\n",
       "admittime               datetime64[ns]\n",
       "dischtime               datetime64[ns]\n",
       "deathtime                       object\n",
       "admission_type                  object\n",
       "admit_provider_id               object\n",
       "admission_location              object\n",
       "discharge_location              object\n",
       "insurance                       object\n",
       "language                        object\n",
       "marital_status                  object\n",
       "race                            object\n",
       "edregtime                       object\n",
       "edouttime                       object\n",
       "hospital_expire_flag             int64\n",
       "Frequency                        int64\n",
       "dtype: object"
      ]
     },
     "execution_count": 13,
     "metadata": {},
     "output_type": "execute_result"
    }
   ],
   "source": [
    "# check the datatypes of all the variables\n",
    "df.dtypes"
   ]
  },
  {
   "cell_type": "code",
   "execution_count": 14,
   "id": "b8d90aac",
   "metadata": {},
   "outputs": [],
   "source": [
    "# Sort and group the admitime corresponding to subject_id\n",
    "df.sort_values(by=['subject_id','admittime'], inplace=True)\n",
    "grouped_data = df.groupby('subject_id').size().reset_index(name='Frequency')"
   ]
  },
  {
   "cell_type": "code",
   "execution_count": 15,
   "id": "5fd06181",
   "metadata": {},
   "outputs": [
    {
     "name": "stdout",
     "output_type": "stream",
     "text": [
      "    Subject_ID    Visit_Frequency\n",
      "0     10000032   50 days 01:12:00\n",
      "1     10000032   25 days 17:46:00\n",
      "2     10000032   11 days 05:49:00\n",
      "3     10000826    6 days 01:09:00\n",
      "4     10000826    6 days 04:48:00\n",
      "5     10000935    2 days 16:52:00\n",
      "6     10000935 1342 days 01:47:00\n",
      "7     10000935   42 days 10:07:00\n",
      "8     10000935   44 days 03:34:00\n",
      "9     10000980  538 days 14:08:00\n",
      "10    10000980  491 days 17:57:00\n",
      "11    10000980  146 days 02:50:00\n",
      "12    10000980   41 days 23:12:00\n",
      "13    10000980   52 days 21:07:00\n",
      "14    10000980  757 days 11:58:00\n",
      "15    10001186   23 days 16:35:00\n",
      "16    10001186  635 days 16:10:00\n",
      "17    10001319  458 days 14:22:00\n",
      "18    10001319 1206 days 08:22:00\n",
      "19    10001338    6 days 18:17:00\n"
     ]
    }
   ],
   "source": [
    "visit_frequency_data = []\n",
    "\n",
    "# Group the data by 'subject_id'\n",
    "grouped_data = df.groupby('subject_id')\n",
    "\n",
    "# Iterate over each subject_id\n",
    "for subject_id, group_df in grouped_data:\n",
    "    # Check if the frequency of visits for this subject_id is greater than 1\n",
    "    if len(group_df) > 2:\n",
    "        # Iterate over each row in the group DataFrame\n",
    "        for i in range(len(group_df)-1):\n",
    "            # Calculate the visit frequency\n",
    "            visit_fre = group_df.admittime.iloc[i+1] - group_df.dischtime.iloc[i]\n",
    "            # Append the results to the list as a dictionary\n",
    "            visit_frequency_data.append({\n",
    "                'Subject_ID': subject_id,\n",
    "                'Visit_Frequency': visit_fre\n",
    "                \n",
    "            })\n",
    "\n",
    "# Convert the list of dictionaries to a DataFrame\n",
    "visit_frequency_df = pd.DataFrame(visit_frequency_data)\n",
    "\n",
    "# Display the first 10 rows of the DataFrame\n",
    "print(visit_frequency_df.head(20))"
   ]
  },
  {
   "cell_type": "code",
   "execution_count": 86,
   "id": "89c2a4da",
   "metadata": {},
   "outputs": [],
   "source": [
    "visit_frequency_df.to_excel('visit_frequency_df.xlsx',sheet_name='Data' )"
   ]
  },
  {
   "cell_type": "code",
   "execution_count": 16,
   "id": "9c742dca",
   "metadata": {},
   "outputs": [
    {
     "name": "stdout",
     "output_type": "stream",
     "text": [
      "        Subject_ID  Visit_Frequency\n",
      "2         10000032 11 days 05:49:00\n",
      "3         10000826  6 days 01:09:00\n",
      "4         10000826  6 days 04:48:00\n",
      "5         10000935  2 days 16:52:00\n",
      "19        10001338  6 days 18:17:00\n",
      "...            ...              ...\n",
      "214771    19999784  1 days 17:40:00\n",
      "214773    19999784 10 days 15:22:00\n",
      "214774    19999784  9 days 14:43:00\n",
      "214775    19999784  8 days 20:58:00\n",
      "214776    19999784  7 days 19:02:00\n",
      "\n",
      "[43936 rows x 2 columns]\n"
     ]
    }
   ],
   "source": [
    "abnormal_visit = visit_frequency_df[(visit_frequency_df['Visit_Frequency'] >= pd.Timedelta(days=1)) & \n",
    "                                    (visit_frequency_df['Visit_Frequency'] < pd.Timedelta(days=15))]\n",
    "\n",
    "# Display the filtered DataFrame\n",
    "print(abnormal_visit)"
   ]
  },
  {
   "cell_type": "code",
   "execution_count": 88,
   "id": "9b8775eb",
   "metadata": {},
   "outputs": [],
   "source": [
    "abnormal_visit.to_excel('visit-bw_0_14.xlsx',sheet_name='Data' )"
   ]
  },
  {
   "cell_type": "code",
   "execution_count": 17,
   "id": "9475803b",
   "metadata": {},
   "outputs": [
    {
     "name": "stderr",
     "output_type": "stream",
     "text": [
      "C:\\Users\\srila\\AppData\\Local\\Temp\\ipykernel_21188\\1498878423.py:2: SettingWithCopyWarning: \n",
      "A value is trying to be set on a copy of a slice from a DataFrame.\n",
      "Try using .loc[row_indexer,col_indexer] = value instead\n",
      "\n",
      "See the caveats in the documentation: https://pandas.pydata.org/pandas-docs/stable/user_guide/indexing.html#returning-a-view-versus-a-copy\n",
      "  abnormal_visit['Visit_Frequency_days'] = abnormal_visit['Visit_Frequency'].dt.days\n"
     ]
    }
   ],
   "source": [
    "# Convert days and time to Number of days\n",
    "abnormal_visit['Visit_Frequency_days'] = abnormal_visit['Visit_Frequency'].dt.days"
   ]
  },
  {
   "cell_type": "code",
   "execution_count": 18,
   "id": "9d04238c",
   "metadata": {},
   "outputs": [
    {
     "data": {
      "text/plain": [
       "Visit_Frequency_days\n",
       "1     4356\n",
       "2     4062\n",
       "3     4002\n",
       "4     3691\n",
       "5     3637\n",
       "6     3410\n",
       "7     3177\n",
       "8     2813\n",
       "9     2784\n",
       "10    2572\n",
       "11    2460\n",
       "13    2455\n",
       "12    2343\n",
       "14    2174\n",
       "Name: count, dtype: int64"
      ]
     },
     "execution_count": 18,
     "metadata": {},
     "output_type": "execute_result"
    }
   ],
   "source": [
    "abnormal_visit.Visit_Frequency_days.value_counts()"
   ]
  },
  {
   "cell_type": "code",
   "execution_count": 102,
   "id": "4e3a2546",
   "metadata": {},
   "outputs": [],
   "source": [
    "fre.to_excel('fre.xlsx',sheet_name='Data' )"
   ]
  },
  {
   "cell_type": "code",
   "execution_count": 21,
   "id": "3ae87a62",
   "metadata": {},
   "outputs": [
    {
     "data": {
      "image/png": "[encoded data removed]",
      "text/plain": [
       "<Figure size 640x480 with 1 Axes>"
      ]
     },
     "metadata": {},
     "output_type": "display_data"
    }
   ],
   "source": [
    "# Plotting the histogram with bin size of 1\n",
    "plt.hist(abnormal_visit['Visit_Frequency_days'], color='skyblue', bins=27, range = (1,14))  \n",
    "plt.xlabel('Visit Interval (days)')\n",
    "plt.ylabel('Frequency')\n",
    "plt.title('Visit Interval Distribution (Less than 14 days)')\n",
    "\n",
    "# Show the plot\n",
    "plt.show()"
   ]
  }
 ],
 "metadata": {
  "kernelspec": {
   "display_name": "Python 3 (ipykernel)",
   "language": "python",
   "name": "python3"
  },
  "language_info": {
   "codemirror_mode": {
    "name": "ipython",
    "version": 3
   },
   "file_extension": ".py",
   "mimetype": "text/x-python",
   "name": "python",
   "nbconvert_exporter": "python",
   "pygments_lexer": "ipython3",
   "version": "3.10.9"
  }
 },
 "nbformat": 4,
 "nbformat_minor": 5
}
